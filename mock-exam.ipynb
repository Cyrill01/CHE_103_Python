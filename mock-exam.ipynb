{
 "cells": [
  {
   "cell_type": "markdown",
   "metadata": {},
   "source": [
    "# «CHE103 Anwendungen des Computers in der Chemie» <br/> Spring Semester 2023: Python Mock Exam\n",
    "\n",
    "\n",
    "<div class=\"alert alert-warning\">\n",
    "    <b>Important</b>: Before uploading a notebook with your answers back to OLAT, you need to make sure that everything works as intended. To do so, start by clearing all the outputs of the notebook by going to the toolbar and clicking <mark>Edit -> Clear All Outputs</mark> and then rerun all cells with a fresh kernel using <mark>Kernel -> Restart Kernel</mark> followed by <mark>Run -> Run All Cells</mark>. You should then go through your answers and double-check that everything is correct.\n",
    "</div>"
   ]
  },
  {
   "cell_type": "markdown",
   "metadata": {},
   "source": [
    "## Theoretical Questions (5 points)\n",
    "You can answer the questions with a text **and/or** a commented piece of code.\n",
    "\n",
    "<div class=\"alert alert-success\"><b>Question 1:</b> Given a string <code>mystr='Chemistry'</code>. How do you access the 3rd character (the <code>e</code>)?</div>"
   ]
  },
  {
   "cell_type": "markdown",
   "metadata": {},
   "source": [
    "__Answer 1:__"
   ]
  },
  {
   "cell_type": "code",
   "execution_count": 1,
   "metadata": {},
   "outputs": [
    {
     "name": "stdout",
     "output_type": "stream",
     "text": [
      "e\n"
     ]
    }
   ],
   "source": [
    "# Example code for question 1\n",
    "mystr = \"Chemistry\"\n",
    "third_charater = mystr[2]\n",
    "print(third_charater)"
   ]
  },
  {
   "cell_type": "markdown",
   "metadata": {},
   "source": [
    "<div class=\"alert alert-success\"><b>Question 2:</b> From a string containing a date in the format <code>date='dd.mm.yyyy'</code>, how can you get a list which elements are the day, the month and the year as strings (<i>i.e.</i> <code>['dd', 'mm', 'yyyy']`) ?</div>"
   ]
  },
  {
   "cell_type": "markdown",
   "metadata": {},
   "source": [
    "__Answer 2:__"
   ]
  },
  {
   "cell_type": "code",
   "execution_count": 2,
   "metadata": {},
   "outputs": [
    {
     "name": "stdout",
     "output_type": "stream",
     "text": [
      "['12', '05', '2019']\n"
     ]
    }
   ],
   "source": [
    "# Example code for question 2 \n",
    "# convert dd.mm.yyyy to [\"dd\", \"mm\", \"yyyy\"]\n",
    "date = \"12.05.2019\"\n",
    "date_list = date.split(\".\")\n",
    "print(date_list)\n"
   ]
  },
  {
   "cell_type": "markdown",
   "metadata": {},
   "source": [
    "<div class=\"alert alert-success\"><b>Question 3:</b> How can you check if an integer <code>a</code> is a multiple of another integer <code>b</code>?</div>"
   ]
  },
  {
   "cell_type": "markdown",
   "metadata": {},
   "source": [
    "__Answer 3:__"
   ]
  },
  {
   "cell_type": "code",
   "execution_count": 3,
   "metadata": {},
   "outputs": [
    {
     "name": "stdout",
     "output_type": "stream",
     "text": [
      "True\n"
     ]
    }
   ],
   "source": [
    "# Example code for question 3\n",
    "# is a a multiple of b?\n",
    "a = 10\n",
    "b = 5\n",
    "is_multiple = a % b == 0\n",
    "print(is_multiple)\n"
   ]
  },
  {
   "cell_type": "markdown",
   "metadata": {},
   "source": [
    "<div class=\"alert alert-success\"><b>Question 4:</b> Given a NumPy array representing a 3x3 matrix stored in a variable <code>mymat = np.array([[1, 2, 3], [4, 5, 6], [7, 8, 9]])</code>. How can you programatically get its 3x2 submatrix, where the first column is removed (again as a NumPy array)?"
   ]
  },
  {
   "cell_type": "markdown",
   "metadata": {},
   "source": [
    "__Answer 4:__"
   ]
  },
  {
   "cell_type": "code",
   "execution_count": 4,
   "metadata": {},
   "outputs": [
    {
     "name": "stdout",
     "output_type": "stream",
     "text": [
      "[[1 2]\n",
      " [4 5]]\n"
     ]
    }
   ],
   "source": [
    "# Example code for question 4\n",
    "# get 3x2 submatrix of a 3x3 matrix\n",
    "import numpy as np\n",
    "mymat = np.array([[1,2,3],[4,5,6],[7,8,9]])\n",
    "submat = mymat[0:2,0:2]\n",
    "print(submat)\n",
    " "
   ]
  },
  {
   "cell_type": "markdown",
   "metadata": {},
   "source": [
    "<div class=\"alert alert-success\"><b>Question 5:</b> Given a list of integers <code>numbers = [2, 6, 5, 64, 6, 2, ...]</code>, how can you count how many times an element appears in the list?</div>"
   ]
  },
  {
   "cell_type": "markdown",
   "metadata": {},
   "source": [
    "__Answer 5:__"
   ]
  },
  {
   "cell_type": "code",
   "execution_count": 5,
   "metadata": {},
   "outputs": [
    {
     "name": "stdout",
     "output_type": "stream",
     "text": [
      "1\n"
     ]
    }
   ],
   "source": [
    "# Example code for question 5¨\n",
    "# how many times element in list?\n",
    "mylist = [1,2,3,4,5,6,7,8,9,10]\n",
    "count = mylist.count(5)\n",
    "print(count)\n",
    "\n"
   ]
  },
  {
   "cell_type": "markdown",
   "metadata": {},
   "source": [
    "## Exercises (5 points)\n",
    "<div class=\"alert alert-warning\">\n",
    "<b>Note</b>: Task 1 and task 2 can be solved independently\n",
    "</div>\n",
    "\n",
    "Imagine that you are in charge of the chemical supplies in a laboratory. You decide to make use of Python dictionaries to keep track of the available chemicals (here we only consider liquids). You have 2 dictionaries: `supplies` and `min_quantities`. In `supplies`, you store the quantity of each available substance; its keys are the name of the chemicals and the associated values are the volumes **in liters**.\n",
    "\n",
    "```python\n",
    "# The quantity are stored as floats, the unit is liters (implicit)\n",
    "supplies = {\"aceton\": 21.2, \"sulfuric acid\": 15.8, \"ethanol\": 100.0}\n",
    "```\n",
    "\n",
    "In the second dictionary `min_quantities`, you store the minimal quantity for each chemical that you want to have in stock:\n",
    "\n",
    "```python \n",
    "# The minial quantities that should be available for each chemical. Same format as supplies\n",
    "min_quantities = {\"aceton\": 20.0, \"sulfuric acid\": 20.0, \"ethanol\": 50.0, \"nitric acid\": 10.0}\n",
    "```\n",
    "\n",
    "In this example, you would miss at least 4.2 litres of sulfuric acid and 10 liters of nitric acid for your supplies to be up to date.\n",
    "\n",
    "On a regular basis, you need to check you supplies and order new chemicals if needed.\n",
    "\n",
    "<div class=\"alert alert-success\"><b>Task 1 (3 points):</b> Write a function named <code>check_supply</code> that checks whether the current chemical supplies are up to date and tells you what to order if not. Apply this function to the <code>supplies</code> and <code>min_quantities</code> dictionaries defined in the code cell below.</div>\n",
    "\n",
    "Here are some guidlines for task 1:\n",
    "- The function should take 2 dictionaries `current` and `minimal` as arguments: the first one contains the current supplies and the second one the minimal stocks to have\n",
    "- For each chemical in `minimal`, you should check that the corresponding quantity in `current` is high enough\n",
    "- If not, use the `print` function telling you to order more of the chemical and how much of it \n",
    "- If a chemical is present in `minimal` but not in `current`, the function should tell you to order it too\n",
    "- Only whole numbers of liters can be ordered, make sure all quantities are rounded up (*e.g.* if 3.1 liters are required, order 4)\n",
    "- The function does not need to return anything. It simply prints messages.\n",
    "\n",
    "It is very important that the function gives clear instructions as to which chemical to order and in which quantity."
   ]
  },
  {
   "cell_type": "code",
   "execution_count": 6,
   "metadata": {},
   "outputs": [
    {
     "name": "stdout",
     "output_type": "stream",
     "text": [
      "aceton 26.2\n",
      "liquid nitrogen 32.6\n"
     ]
    }
   ],
   "source": [
    "#Task 1: define a function to check the chemical supplies\n",
    "\n",
    "# the function used to check the supplies\n",
    "def check_supply(current, minimal):    \n",
    "    \n",
    "    # Loop through the dictionary of current supplies\n",
    "    for chemical, quantity in current.items():\n",
    "        \n",
    "        # Check if the chemical is in the dictionary of minimal quantities\n",
    "        if chemical in minimal:\n",
    "            \n",
    "            # Check if the quantity is below the minimal quantity\n",
    "            if quantity < minimal[chemical]:\n",
    "                \n",
    "                # Print the chemical and the quantity\n",
    "                print(chemical, quantity)\n",
    "    \n",
    "\n",
    "# The dictionary of current supplies\n",
    "supplies = {\"aceton\": 26.2, \"sulfuric acid\": 12.4, \"ethanol\": 100.0, \"methanol\": 21.6,\n",
    "            \"hydrochloric acid\": 15.2, \"ammonia\": 62.1, \"liquid nitrogen\": 32.6, \"mercury\": 0.2,\n",
    "            \"acetic acid\": 34.3, \"carbonic acid\": 61.2,  \"ferric chloride\": 14.1}\n",
    "\n",
    "# The dictionary of minimal quantity per chemical\n",
    "min_quantities = {\"aceton\": 30.0, \"sulfuric acid\": 10.0, \"sodium hypochlorite\": 10.0, \n",
    "                  \"ethanol\": 50.0, \"methanol\": 20.0, \"hydrofluoric acid\": 10.0,\n",
    "                  \"hydrochloric acid\": 10.0, \"ammonia\": 30.0, \"liquid nitrogen\": 50.0, \n",
    "                  \"mercury\": 0.1, \"acetic acid\": 20.0, \"carbonic acid\": 50.0, \n",
    "                  \"phosphoric acid\": 20.0, \"ferric chloride\": 10.0}\n",
    "\n",
    "# Call the check_supply function with the dictionaries above to see if you should order anything\n",
    "check_supply(supplies, min_quantities)\n"
   ]
  },
  {
   "cell_type": "markdown",
   "metadata": {},
   "source": [
    "Your boss is American and he would like to be able to look up the chemical supplies in units of US gallons. The conversion from liters to gallons beeing not so straight forward (1 liter = 0.2642 gallons), he asks you to write a function that does it automatically. This function should take a Python dictionary in the above format as argument and return a __new__ dictionary in units of gallons. The input dictionary in units of liters __must not__ be modified, as it is still used by everyone else in the lab. Moreover, the function should explicitely add the unit \"gal\" to the volume value to make sure that no confusion could arise. Below is an example showing what your function should do:\n",
    "\n",
    "```python\n",
    "#An example input dictionary in units of liters\n",
    "supplies = {\"aceton\": 21.2, \"sulfuric acid\": 15.8, \"ethanol\": 100.0}\n",
    "\n",
    "#Converted to gallons, the above dictionary should become:\n",
    "supplies_in_gal = {\"aceton\": \"5.601 gal\", \"sulfuric acid\": \"4.1744 gal\". \"ethanol\": \"26.42 gal\"}\n",
    "```\n",
    "\n",
    "<div class=\"alert alert-success\"><b>Task 2 (2 points):</b> Write a function named <code>convert_to_gal</code> that takes a dictionary describing chemical supplies in liters and converts it into US gallons. Use this function with the dictionary <code>supplies</code> from task 1 as argument.</div>\n",
    "\n",
    "Make sure that:\n",
    "- The input dictionary in units of liters is not modified\n",
    "- The proper conversion rate is used: 1 liter = 0.2642 gallons\n",
    "- The output dictionary explicitly states the units (*e.g.*`{\"aceton\": \"5.601 gal\"}`)"
   ]
  },
  {
   "cell_type": "code",
   "execution_count": 9,
   "metadata": {},
   "outputs": [
    {
     "name": "stdout",
     "output_type": "stream",
     "text": [
      "{'aceton': 6.921306400000001, 'sulfuric acid': 3.2757328, 'ethanol': 26.4172, 'methanol': 5.706115200000001, 'hydrochloric acid': 4.0154144, 'ammonia': 16.4050812, 'liquid nitrogen': 8.6120072, 'mercury': 0.052834400000000004, 'acetic acid': 9.0610996, 'carbonic acid': 16.1673264, 'ferric chloride': 3.7248252}\n"
     ]
    }
   ],
   "source": [
    "def convert_to_gal(chemicals):\n",
    "    # Create a dictionary to store the converted values\n",
    "    converted = {}\n",
    "\n",
    "    # Loop through the dictionary of chemicals\n",
    "    for chemical, quantity in chemicals.items():\n",
    "            \n",
    "            # Check if the chemical is in the dictionary of conversion factors\n",
    "            if chemical in conversion_factors:\n",
    "                \n",
    "                # Convert the quantity to gallons and store it in the dictionary\n",
    "                converted[chemical] = quantity * conversion_factors[chemical]\n",
    "        \n",
    "    return  converted\n",
    "        \n",
    "# The dictionary of conversion factors\n",
    "conversion_factors = {\"aceton\": 0.264172, \"sulfuric acid\": 0.264172, \"sodium hypochlorite\": 0.264172,\n",
    "                        \"ethanol\": 0.264172, \"methanol\": 0.264172, \"hydrofluoric acid\": 0.264172,\n",
    "                        \"hydrochloric acid\": 0.264172, \"ammonia\": 0.264172, \"liquid nitrogen\": 0.264172,\n",
    "                        \"mercury\": 0.264172, \"acetic acid\": 0.264172, \"carbonic acid\": 0.264172,\n",
    "                        \"phosphoric acid\": 0.264172, \"ferric chloride\": 0.264172}\n",
    "\n",
    "#Applying the function with `supplies` from above as argument\n",
    "print(convert_to_gal(supplies))"
   ]
  }
 ],
 "metadata": {
  "kernelspec": {
   "display_name": "Python 3 (ipykernel)",
   "language": "python",
   "name": "python3"
  },
  "language_info": {
   "codemirror_mode": {
    "name": "ipython",
    "version": 3
   },
   "file_extension": ".py",
   "mimetype": "text/x-python",
   "name": "python",
   "nbconvert_exporter": "python",
   "pygments_lexer": "ipython3",
   "version": "3.10.11"
  }
 },
 "nbformat": 4,
 "nbformat_minor": 2
}
