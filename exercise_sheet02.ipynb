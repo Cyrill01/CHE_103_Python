{
 "cells": [
  {
   "cell_type": "markdown",
   "metadata": {},
   "source": [
    "# Exercise Sheet 2 <br/> CHE103 Übungen zu Anwendungen des Computers in der Chemie <br/> Spring Semester 2023\n",
    "\n",
    "***\n",
    "\n",
    "To hand in the exercise for feedback, upload this notebook containing your answers and your code back to OLAT before **Friday**. Handing in is **optional** but recommended.\n",
    "\n",
    "<div class=\"alert alert-warning\">\n",
    "    <b>Important</b>: Before uploading a notebook with your answers back to OLAT, you need to make sure that everything works as intended. To do so, start by clearing all the outputs of the notebook by going to the toolbar and clicking <mark>Edit -> Clear All Outputs</mark> and then rerun all cells with a fresh kernel using <mark>Kernel -> Restart Kernel</mark> followed by <mark>Run -> Run All Cells</mark>. You should then go through your answers and double-check that everything is correct.\n",
    "</div>"
   ]
  },
  {
   "cell_type": "markdown",
   "metadata": {},
   "source": [
    "## Exercise 1: The String Object\n",
    "As you have seen during the lecture, Python is a so-called object-oriented programming language. It is categorized like this because it enables the creation of objects, which are collections of data and/or methods. The data stored in objects are usually called attributes, and methods are simply pre-defined lists of actions that can be executed on demand. Actually, all of the types (int, float, str, ...) that you have seen so far in the lecture are objects. In this exercise, we will focus on strings and their methods. The methods are called with the help of a `.` (dot), as in the example below:"
   ]
  },
  {
   "cell_type": "code",
   "execution_count": 1,
   "metadata": {},
   "outputs": [
    {
     "name": "stdout",
     "output_type": "stream",
     "text": [
      "Is the string ' 10 ' a number ? : True\n",
      "The characters making up ' Hello there ! ' are:  ['Hello', 'there', '!']\n"
     ]
    }
   ],
   "source": [
    "#Example with the string methods\n",
    "\n",
    "#Check if the string is actually a digital number, return a bool (True/False)\n",
    "a = \"10\"\n",
    "print(\"Is the string '\", a, \"' a number ? :\", a.isdigit())\n",
    "\n",
    "#Separating a string by word, returns a list\n",
    "b = \"Hello there !\"\n",
    "print(\"The characters making up '\", b, \"' are: \", b.split())"
   ]
  },
  {
   "cell_type": "markdown",
   "metadata": {},
   "source": [
    "__Remember__ that you can call the `help(str)` function to get a list of the available methods associated with the string type. You can also find a very complete documentation here: https://docs.python.org/3/library/stdtypes.html#string-methods ."
   ]
  },
  {
   "cell_type": "code",
   "execution_count": 2,
   "metadata": {},
   "outputs": [
    {
     "name": "stdout",
     "output_type": "stream",
     "text": [
      "0. This is the original text: \n",
      "\n",
      "This is a rather long text, on which we will apply some methods. \n",
      "Note the the '\\n' is there to mark the end of a line, so that when printing this text, \n",
      "it automatically comes in the intended format. \n",
      "You know that you can add strings together by simply using the + symbol, \n",
      "which is what we are doing here to get this text as a single string. \n",
      "Print the full text to see the effects of '\\n' !\n",
      "\n",
      "1. In this text, the letter 'a' appears  17  times.\n",
      "\n",
      "\n",
      "2. Below is a double-spaced text: \n",
      "\n",
      "This  is  a  rather  long  text,  on  which  we  will  apply  some  methods.  \n",
      "Note  the  the  '\\n'  is  there  to  mark  the  end  of  a  line,  so  that  when  printing  this  text,  \n",
      "it  automatically  comes  in  the  intended  format.  \n",
      "You  know  that  you  can  add  strings  together  by  simply  using  the  +  symbol,  \n",
      "which  is  what  we  are  doing  here  to  get  this  text  as  a  single  string.  \n",
      "Print  the  full  text  to  see  the  effects  of  '\\n'  !\n",
      "\n",
      "3.1 The first word of the text is: This\n",
      "3.2 The 25th word of the text is:  a\n",
      "3.3 The 60th word of the text is:  here\n",
      "\n",
      "4. Below is the last line of the text:  Print  the  full  text  to  see  the  effects  of  '\\n'  !\n"
     ]
    }
   ],
   "source": [
    "# Here is a rather long string, note that you can use the \\ (backslash) symbol \n",
    "# to have an expression on multiple lines\n",
    "text = \"This is a rather long text, on which we will apply some methods. \\n\"                            \\\n",
    "     + \"Note the the '\\\\n' is there to mark the end of a line, so that when printing this text, \\n\"     \\\n",
    "     + \"it automatically comes in the intended format. \\n\"                                              \\\n",
    "     + \"You know that you can add strings together by simply using the + symbol, \\n\"                    \\\n",
    "     + \"which is what we are doing here to get this text as a single string. \\n\"                        \\\n",
    "     + \"Print the full text to see the effects of '\\\\n' !\"  \n",
    "\n",
    "# First print the original text:\n",
    "print(\"0. This is the original text: \\n\")\n",
    "print(text)\n",
    "\n",
    "# 1. How many times does the letter a appear in this text ?\n",
    "n_a = 0\n",
    "for i in range(len(text)):\n",
    "    if text[i] == 'a':\n",
    "        n_a += 1\n",
    "\n",
    "print(\"\\n1. In this text, the letter 'a' appears \", n_a , \" times.\\n\")\n",
    "\n",
    "# 2. Replace all spaces by double-spaces and print the text\n",
    "print(\"\\n2. Below is a double-spaced text: \\n\")\n",
    "text = text.replace(\" \", \"  \")\n",
    "print(text)\n",
    "\n",
    "\n",
    "# 3. Please, print the first word, the 25th word and the 60th word of the original text\n",
    "words = text.split()\n",
    "first_word = words[0]\n",
    "word_25 = words[24]\n",
    "word_60 = words[59]\n",
    "print(\"\\n3.1 The first word of the text is:\", first_word )\n",
    "print(\"3.2 The 25th word of the text is: \", word_25)\n",
    "print(\"3.3 The 60th word of the text is: \" , word_60)\n",
    "\n",
    "# 4. Here, print only the last line of the text\n",
    "last_line = text.splitlines()[-1]\n",
    "print(\"\\n4. Below is the last line of the text: \", last_line)\n"
   ]
  },
  {
   "cell_type": "markdown",
   "metadata": {},
   "source": [
    "<div class=\"alert alert-success\"><b>Task:</b> Complete the above piece of code using string methods. In turn, you will have to: \n",
    "    <ol>\n",
    "        <li> Count the number of 'a' in the given text  </li>\n",
    "        <li> Double every space of the text </li>\n",
    "        <li> Print the 1st, 25th and 60th words of the original text</li>\n",
    "        <li> Print the last line of the text</li>\n",
    "    </ol>\n",
    "\n",
    "</div>"
   ]
  },
  {
   "cell_type": "markdown",
   "metadata": {},
   "source": [
    "## Exercise 2: Working with Lists\n",
    "Assume that you are working at the HR (human resources) departement of some company. Your manager provides you with a list containing the birth years of all 50 employees and asks you the following:\n",
    "- Sort this list in decreasing order, so that the birth year of the youngest employee is the first element\n",
    "- Create a new list containing the age of each employee, from the youngest to the oldest\n",
    "- Compute the average age of the employees\n",
    "\n",
    "A set of 10 new people have joined the company. The manager sends you the list containing their birth years and asks you to:\n",
    "- Add their birth years and ages to the existing lists, while making sure they are still sorted\n",
    "- Update the average age of the employees\n",
    "\n",
    "The manager wants to have more statistics. In particular, he wants to know how many people were born in the 1980s, as a special 70s themed party is coming up.\n",
    "\n",
    "<div class=\"alert alert-success\"><b>Task:</b> Edit the code cell below to address the manager requests and print each result with a descriptive comment.</div>\n",
    "\n",
    "Link to the list documentation: https://docs.python.org/3/tutorial/datastructures.html"
   ]
  },
  {
   "cell_type": "code",
   "execution_count": 3,
   "metadata": {},
   "outputs": [
    {
     "name": "stdout",
     "output_type": "stream",
     "text": [
      "The sorted birth_year list is:  [1998, 1997, 1997, 1996, 1994, 1992, 1991, 1990, 1990, 1990, 1989, 1988, 1988, 1986, 1986, 1986, 1986, 1985, 1985, 1985, 1985, 1984, 1982, 1981, 1979, 1976, 1976, 1975, 1974, 1973, 1972, 1971, 1970, 1967, 1967, 1966, 1964, 1964, 1962, 1961, 1961, 1959, 1958, 1957, 1954, 1953, 1953, 1953, 1952, 1952]\n",
      "[21, 22, 22, 23, 25, 27, 28, 29, 29, 29, 30, 31, 31, 33, 33, 33, 33, 34, 34, 34, 34, 35, 37, 38, 40, 43, 43, 44, 45, 46, 47, 48, 49, 52, 52, 53, 55, 55, 57, 58, 58, 60, 61, 62, 65, 66, 66, 66, 67, 67]\n",
      "\n",
      "The sorted age list is:  [21, 22, 22, 23, 25, 27, 28, 29, 29, 29, 30, 31, 31, 33, 33, 33, 33, 34, 34, 34, 34, 35, 37, 38, 40, 43, 43, 44, 45, 46, 47, 48, 49, 52, 52, 53, 55, 55, 57, 58, 58, 60, 61, 62, 65, 66, 66, 66, 67, 67]\n",
      "\n",
      "In average, the employees are :  43.0  years old.\n",
      "\n",
      "\n",
      "After the arrival of 10 new employees, the sorted birth_year list is:  [1998, 1997, 1997, 1997, 1997, 1996, 1996, 1994, 1992, 1991, 1990, 1990, 1990, 1989, 1989, 1988, 1988, 1987, 1986, 1986, 1986, 1986, 1985, 1985, 1985, 1985, 1984, 1984, 1982, 1981, 1979, 1978, 1976, 1976, 1975, 1974, 1974, 1973, 1973, 1972, 1972, 1971, 1970, 1967, 1967, 1966, 1964, 1964, 1962, 1961, 1961, 1959, 1958, 1957, 1954, 1953, 1953, 1953, 1952, 1952]\n",
      "\n",
      "After the arrival of 10 new employees, the sorted age list is:  [21, 22, 22, 22, 22, 23, 23, 25, 27, 28, 29, 29, 29, 30, 30, 31, 31, 32, 33, 33, 33, 33, 34, 34, 34, 34, 35, 35, 37, 38, 40, 41, 43, 43, 44, 45, 45, 46, 46, 47, 47, 48, 49, 52, 52, 53, 55, 55, 57, 58, 58, 60, 61, 62, 65, 66, 66, 66, 67, 67]\n",
      "\n",
      "After the arrival of 10 new employees, the average age is:  41.55  years old.\n",
      "\n",
      "There are  13  employees born in the 1970s.\n"
     ]
    }
   ],
   "source": [
    "# This is the list of employee birth years your manager provided\n",
    "birth_year = [1985, 1973, 1961, 1974, 1985, 1986, 1964, 1967, 1970, 1996, 1985,\n",
    "              1964, 1975, 1966, 1991, 1990, 1952, 1957, 1961, 1994, 1979, 1989,\n",
    "              1986, 1990, 1953, 1976, 1971, 1981, 1985, 1997, 1986, 1984, 1988,\n",
    "              1959, 1952, 1998, 1990, 1962, 1997, 1976, 1953, 1992, 1972, 1988,\n",
    "              1958, 1953, 1986, 1954, 1967, 1982]\n",
    "\n",
    "# Sort the birthyears list (in decreasing order) here:\n",
    "sorted_birth_year = sorted(birth_year, reverse=True)\n",
    "print(\"The sorted birth_year list is: \" , sorted_birth_year)\n",
    "\n",
    "# Create the list containing the age of each employee in increasing order here:\n",
    "age = []\n",
    "for i in range(len(birth_year)):\n",
    "    age.append(2019 - birth_year[i])\n",
    "age = sorted(age)\n",
    "print(age)\n",
    "print(\"\\nThe sorted age list is: \", age)\n",
    "\n",
    "\n",
    "#Compute the average age here:\n",
    "average_age = sum(age)/len(age)\n",
    "print(\"\\nIn average, the employees are : \", average_age, \" years old.\")\n",
    "\n",
    "### This is the list containing the birth years of the 10 new employees\n",
    "new_birth_year = [1974, 1972, 1996, 1989, 1973, 1997, 1987, 1984, 1997, 1978]\n",
    "\n",
    "# Update the birth_year and the age lists with the above data here (make sure the end result is still sorted):\n",
    "birth_year = birth_year + new_birth_year\n",
    "print(\"\\n\\nAfter the arrival of 10 new employees, the sorted birth_year list is: \", sorted(birth_year, reverse=True))\n",
    "age = []\n",
    "for i in range(len(birth_year)):\n",
    "    age.append(2019 - birth_year[i])\n",
    "age = sorted(age)\n",
    "print(\"\\nAfter the arrival of 10 new employees, the sorted age list is: \", age)\n",
    "\n",
    "# Update the average age of the employees here:\n",
    "average_age = sum(age)/len(age)\n",
    "print(\"\\nAfter the arrival of 10 new employees, the average age is: \", average_age, \" years old.\")\n",
    "\n",
    "# Count (programatically) how many employees are born in the 1970s (from 1970 to 1979)\n",
    "n_1970s = 0 \n",
    "for i in range(len(birth_year)):\n",
    "    if birth_year[i] >= 1970 and birth_year[i] <= 1979:\n",
    "        n_1970s += 1\n",
    "print(\"\\nThere are \", n_1970s, \" employees born in the 1970s.\")"
   ]
  },
  {
   "cell_type": "markdown",
   "metadata": {},
   "source": [
    "## Exercise 3: Combining Lists and Strings\n",
    "\n",
    "You are given 2 lists, `names` and `assets`. The former contains some people's first names (not starting with a capital letter) and the latter their corresponding fortune (in CHF). The goal is to print messages stating how much money each person owns. As an example, for the following lists, \n",
    "\n",
    "```python\n",
    "names = [\"fred\", \"john\"]\n",
    "assets = [250.0, 1254.25]\n",
    "```\n",
    "the ouput should exactly be:<br>    \n",
    "\n",
    "> Fred owns 250.0 CHF <br>\n",
    "John owns 1254.25 CHF\n",
    "\n",
    "<div class=\"alert alert-success\"><b>Task:</b> Edit the code cell below to (programmatically) print the required messages. Make sure that the above format is respected, including the capital letter for the names.</div>"
   ]
  },
  {
   "cell_type": "code",
   "execution_count": 4,
   "metadata": {},
   "outputs": [
    {
     "name": "stdout",
     "output_type": "stream",
     "text": [
      "['Ben', 'Emily', 'Joe', 'Anna', 'Jack', 'Alice', 'Harry', 'Lucy', 'Adam', 'Laura']\n",
      "Ben  owns  250.0  CHF.\n",
      "Emily  owns  100.2  CHF.\n",
      "Joe  owns  -500.0  CHF.\n",
      "Anna  owns  125000.0  CHF.\n",
      "Jack  owns  12.5  CHF.\n",
      "Alice  owns  452.2  CHF.\n",
      "Harry  owns  100.0  CHF.\n",
      "Lucy  owns  0.0  CHF.\n",
      "Adam  owns  80450.8  CHF.\n",
      "Laura  owns  6500.25  CHF.\n"
     ]
    }
   ],
   "source": [
    "#The list of first names\n",
    "names = [\"ben\", \"emily\", \"joe\", \"anna\", \"jack\", \"alice\", \"harry\", \"lucy\", \"adam\", \"laura\"]\n",
    "#The list of fortunes\n",
    "assets = [250.0, 100.2, -500.0, 125000.0, 12.5, 452.2, 100.0, 0.0, 80450.8, 6500.25]\n",
    "\n",
    "#Your code here:\n",
    "#Capitalise the first letter of each name\n",
    "for i in range(len(names)):\n",
    "    names[i] = names[i].capitalize()\n",
    "print(names)\n",
    "\n",
    "#print for each person their name and their fortune\n",
    "for i in range(len(names)):\n",
    "    print(names[i], \" owns \", assets[i], \" CHF.\")\n",
    "\n",
    "\n",
    "\n"
   ]
  },
  {
   "cell_type": "markdown",
   "metadata": {},
   "source": [
    "## Exercise 4: Theoretical Questions\n",
    "Here are a couple of more conceptual questions. You might find the answer in the lecture slides, or you might have to do some internet research of your own. A good point to start is the [official Python documentation](https://docs.python.org/3/). Python also comes with a [long list of modules/libraries](https://docs.python.org/3/library) for a lot of common tasks. You can answer with text and/or an example code."
   ]
  },
  {
   "cell_type": "markdown",
   "metadata": {},
   "source": [
    "<div class=\"alert alert-success\"><b>Question 1:</b> How would you count the number of words in a text?</div>"
   ]
  },
  {
   "cell_type": "markdown",
   "metadata": {},
   "source": [
    "__Answer 1:__"
   ]
  },
  {
   "cell_type": "code",
   "execution_count": 5,
   "metadata": {},
   "outputs": [],
   "source": [
    "#Or code example for question 1"
   ]
  },
  {
   "cell_type": "markdown",
   "metadata": {},
   "source": [
    "<div class=\"alert alert-success\"><b>Question 2:</b> You have seen that using <mark>for i in range(10,20):</mark> prompts an iteration over the integer numbers between 10 and 20 (20 excluded). How can you modify this expression to iterate over the even numbers between 10 and 20 only (that is 10, 12, 14, ...) ? </div>"
   ]
  },
  {
   "cell_type": "markdown",
   "metadata": {},
   "source": [
    "__Answer 2:__"
   ]
  },
  {
   "cell_type": "code",
   "execution_count": 6,
   "metadata": {},
   "outputs": [],
   "source": [
    "#Or code example for question 2"
   ]
  },
  {
   "cell_type": "markdown",
   "metadata": {},
   "source": [
    "<div class=\"alert alert-success\"><b>Question 3:</b>   Assume that you are given three variables of float type: <mark>a</mark>, <mark>b</mark> and <mark>c</mark>. How can you check if $a \\leq b \\lt c$ ? </div>"
   ]
  },
  {
   "cell_type": "markdown",
   "metadata": {},
   "source": [
    "__Answer 3:__"
   ]
  },
  {
   "cell_type": "code",
   "execution_count": 7,
   "metadata": {},
   "outputs": [],
   "source": [
    "#Or code example for question 3"
   ]
  }
 ],
 "metadata": {
  "kernelspec": {
   "display_name": "Python 3 (ipykernel)",
   "language": "python",
   "name": "python3"
  },
  "language_info": {
   "codemirror_mode": {
    "name": "ipython",
    "version": 3
   },
   "file_extension": ".py",
   "mimetype": "text/x-python",
   "name": "python",
   "nbconvert_exporter": "python",
   "pygments_lexer": "ipython3",
   "version": "3.10.11"
  }
 },
 "nbformat": 4,
 "nbformat_minor": 2
}
