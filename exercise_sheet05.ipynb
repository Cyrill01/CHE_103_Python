{
 "cells": [
  {
   "cell_type": "markdown",
   "metadata": {},
   "source": [
    "# Exercise Sheet 5 <br/> CHE103 Übungen zu Anwendungen des Computers in der Chemie <br/> Spring Semester 2023\n",
    "\n",
    "***\n",
    "\n",
    "To hand in the exercise for feedback, upload this notebook containing your answers and your code back to OLAT before **Friday**. Handing in is **optional** but recommanded.\n",
    "\n",
    "<div class=\"alert alert-warning\">\n",
    "    <b>Important</b>: Before uploading a notebook with your answers back to OLAT, you need to make sure that everything works as intended. To do so, start by clearing all the outputs of the notebook by going to the toolbar and clicking <mark>Edit -> Clear All Outputs</mark> and then rerun all cells with a fresh kernel using <mark>Kernel -> Restart Kernel</mark> followed by <mark>Run -> Run All Cells</mark>. You should then go through your answers and double-check that everything is correct.\n",
    "</div>"
   ]
  },
  {
   "cell_type": "markdown",
   "metadata": {},
   "source": [
    "## Exercise 1: String Analysis\n",
    "\n",
    "The goal of this exercise is to analyze the content of a string of characters, which could for example come from a data file. The string to analyze has the following format: \n",
    "```python\n",
    "string_to_analyze = \"hello 10 jk 2.2 pi 2.6 8 1\"\n",
    "```\n",
    "where words are separated by the space (`\" \"`) character. Some of the words are integer numbers, some are floats and the rest are standard strings. The aim is to work on the integers contained in the given string, which requires them to be extracted."
   ]
  },
  {
   "cell_type": "markdown",
   "metadata": {},
   "source": [
    "<div class=\"alert alert-success\"><b>Task 1:</b> In the code cell below, extract (programmatically) all integer numbers from the string variable <code>long_string</code> and put them in a list named <code>list_of_int</code> (of <code>int</code> type). Put all the other words in a list of strings named <code>the_rest</code>. Print both lists. </div>\n",
    "\n",
    "The task performed on the example string `string_to_analyze` would yield:\n",
    "```python\n",
    "print(list_of_int) #prints [10, 8, 1]\n",
    "print(the_rest) #prints ['hello', 'jk', '2.2', 'pi', '2.6']\n",
    "```"
   ]
  },
  {
   "cell_type": "code",
   "execution_count": null,
   "metadata": {},
   "outputs": [],
   "source": [
    "### Code for task 1:\n",
    "\n",
    "# The string to analyze\n",
    "long_string = \"in 15.26 est 22.26 1 7.67 sapien 4.20 5.62 Ut odio 12 9 Aliquam 4\"       \\\n",
    "            + \"6.27 2.03 13 4 11.50 24.77 vestibulum 0 3.31 commodo tristique 8.72 \"    \\\n",
    "            + \"7.64 7.77 22.75 Pellentesque 7 15.62 4.58 24 2.77 19.01 purus 44\"        \\\n",
    "            + \"accumsan odio ut 20 5 vitae sem Duis ut 11 aliquet 24 leo 11.99 \"        \\\n",
    "            + \"17.01 9.89 dui 4 23.58 4 Praesent feugiat risus 19 16.10 sit 20 \"        \\\n",
    "            + \"hendrerit 9.03 19.91 19.57 15 Integer hendrerit 2 15 non 12 Sed \"        \\\n",
    "            + \"1 22 8.64 3 ac 23.55 senectus egetodio fringilla Sed 0 1 13.83 23.48 \"   \\\n",
    "            + \"quis amet habitant 22 sed 13 1 4 odi 9 3 morbi Sed vehicula 4.02 et \"    \\\n",
    "            + \"18.69 7.69 14 16.01 justo 4 19.02 8 8 9 4.55 14 20 11.34 14 11 egestas \" \\\n",
    "            + \"17 Yes 18.01 Sed 4 Mauris 0.70 pede 2 21.88 posuere Morbi 13\"\n",
    "\n",
    "\n",
    "# Initializing the lists\n",
    "list_of_int = []\n",
    "the_rest = []\n",
    "\n",
    "# Extract the integers from long_string here:\n",
    "\n",
    "\n",
    "# Print the outcome (both lists) with a message:\n"
   ]
  },
  {
   "cell_type": "markdown",
   "metadata": {},
   "source": [
    "Now that a list containing all the integers has been extracted, one can do some (very basic) statistics on its content.\n",
    "\n",
    "<div class=\"alert alert-success\"><b>Task 2</b>:\n",
    "  Write code which does the following:\n",
    "  <ol>\n",
    "    <li>Sort the list in increasing order and print it</li>\n",
    "    <li>Print the number of elements in the list</li>\n",
    "    <li>Print the highest and lowest integers present in the list</li>\n",
    "    <li>Compute and print the average value of the elements of the list</li>\n",
    "    <li>Count how many elements of the list are multiples of 4 and print that number</li>\n",
    "  </ol>\n",
    "  All <code>print</code> statements should come with a message that makes it clear, what is being printed.\n",
    "</div>\n"
   ]
  },
  {
   "cell_type": "code",
   "execution_count": null,
   "metadata": {},
   "outputs": [],
   "source": [
    "### Code for task 2:\n",
    "\n",
    "#1. sorting the list in increasing order\n",
    "\n",
    "\n",
    "#2. Printing the number of elements in the list\n",
    "\n",
    "\n",
    "#3. Printing the highest and lowest integers\n",
    "\n",
    "\n",
    "#4. Computing the average\n",
    "\n",
    "\n",
    "#5. Count the number of multiples of 4 in the list\n"
   ]
  },
  {
   "cell_type": "markdown",
   "metadata": {},
   "source": [
    "## Exercise 2: Dictionaries and Functions"
   ]
  },
  {
   "cell_type": "markdown",
   "metadata": {},
   "source": [
    "In this example, you are expected to combine 3 lists into one dictionary. The lists are `names`, `addresses` and `ages` containing the names addresses and ages of a bunch of people. They are ordered in such a way that for any index `i`, `names[i]`, `addresses[i]` and `ages[i]` refer to the same person. The resulting dictionary should be a nested dictionary with the following structure: `info_dict = {name: {\"address\": address, \"age\": age}}` such that `info_dict[\"John\"][\"address\"]` refers to the address of the person named John."
   ]
  },
  {
   "cell_type": "markdown",
   "metadata": {},
   "source": [
    "<div class=\"alert alert-success\"><b>Task 1:</b> Combine the lists into a nested dictionary called <code>info_dict</code>. </div>"
   ]
  },
  {
   "cell_type": "code",
   "execution_count": null,
   "metadata": {},
   "outputs": [],
   "source": [
    "### This is the input data\n",
    "names = [\"John\", \"Penelope\", \"Fred\", \"Stacy\"]\n",
    "addresses = [\"London\", \"Paris\", \"Berlin\", \"New-York\"]\n",
    "ages = [24, 41, 30, 30]\n",
    "\n",
    "info_dict = {}\n",
    "\n",
    "### your code here\n",
    "\n",
    "\n",
    "print(info_dict)\n",
    "#check\n",
    "print(\"\\nThe address of John is \", info_dict[\"John\"][\"address\"])"
   ]
  },
  {
   "cell_type": "markdown",
   "metadata": {},
   "source": [
    "<div class=\"alert alert-success\"><b>Task 2:</b> Write a function called <code>insert_in_dict</code> that \n",
    "will take lists of names, addresses and ages and insert them to the old dictionary <code>info_dict</code>. The old dictionary and the lists should be defined as the arguments, and the function should return <code>None</code>. The content of <code>info_dict</code> should be modified within the function. Call your newly defined function twice, once with <code>names_2</code>, <code>addresses_2</code>, <code>ages_2</code>, and once with <code>names_3</code>, <code>addresses_3</code>, <code>ages_3</code>.</div>"
   ]
  },
  {
   "cell_type": "code",
   "execution_count": null,
   "metadata": {},
   "outputs": [],
   "source": [
    "### lists to be added to info_dict:\n",
    "names_2 = [\"Joe\", \"Penny\", \"George\", \"Barbara\"]\n",
    "addresses_2 = [\"Lausanne\", \"Zürich\", \"Basel\", \"Bern\"]\n",
    "ages_2 = [24, 14, 42, 10]\n",
    "\n",
    "names_3 = [\"Frank\", \"Laura\", \"Adam\", \"Evelyn\"]\n",
    "addresses_3 = [\"Oerlikon\", \"Zollikon\", \"Adikon\", \"Opfikon\"]\n",
    "ages_3 = [30, 31, 32, 33]\n",
    "\n",
    "def insert_in_dict(names, addresses, ages, info_dict):\n",
    "    ### your code here\n",
    "    \n",
    "\n",
    "#call the function (twice)\n",
    "\n",
    "#check\n",
    "print(\"\\nThe address of John is \", info_dict[\"John\"][\"address\"])\n",
    "print(\"\\nThe address of George is \", info_dict[\"George\"][\"address\"])\n",
    "print(\"\\nThe age of Laura is \", info_dict[\"Laura\"][\"age\"])\n",
    "print(\"\\nThe whole dictionary:\\n\", info_dict)"
   ]
  },
  {
   "cell_type": "markdown",
   "metadata": {},
   "source": [
    "## Exercise 3:  More lists, dictionaries, and for loops"
   ]
  },
  {
   "cell_type": "markdown",
   "metadata": {},
   "source": [
    "You are given a dictionary containing the building blocks of standard sentences in the English laguage. These sentences have a well defined structure of a subject, a verb, and an object. The goal of this exercise is to build and print all possible sentences from the given building blocks. For example,\n",
    "```python\n",
    "building_blocks = {\"subjects\" : [\"fred\", \"george\"], \n",
    "                   \"verbs\": [\"owns\", \"buys\"], \n",
    "                   \"objects\": [\"a broom\", \"a tent\"]}\n",
    "```\n",
    "would yield the following result:\n",
    "- Fred owns a broom.\n",
    "- Fred owns a tent.\n",
    "- Fred buys a broom.\n",
    "- Fred buys a tent.\n",
    "- George owns a broom.\n",
    "- George owns a tent.\n",
    "- George buys a broom.\n",
    "- George buys a tent.\n"
   ]
  },
  {
   "cell_type": "markdown",
   "metadata": {},
   "source": [
    "<div class=\"alert alert-success\"><b>Task:</b> Use for loops to iterate over the subjects, verbs and objects stored in the <code>building_blocks</code> dictionary defined below, and print all possible sentences. Make sure each sentence starts with a capital letter and ends with a <code>.</code>. The order in which the sentences are printed does not matter.</div>"
   ]
  },
  {
   "cell_type": "code",
   "execution_count": null,
   "metadata": {},
   "outputs": [],
   "source": [
    "#The dictionary to be used to generate sentences\n",
    "building_blocks = {\"subjects\" : [\"fred\", \"alice\", \"sarah\", \"george\", \"dominique\", \"trudi\"], \n",
    "                   \"verbs\": [\"owns\", \"looks at\", \"buys\", \"carries\", \"destroys\"], \n",
    "                   \"objects\": [\"a broom\", \"a car\", \"a house\", \"a tent\", \"an apple\"]}"
   ]
  },
  {
   "cell_type": "code",
   "execution_count": null,
   "metadata": {},
   "outputs": [],
   "source": [
    "#YOUR CODE HERE\n"
   ]
  },
  {
   "cell_type": "markdown",
   "metadata": {},
   "source": [
    "## Exercise 4: Theoretical Questions"
   ]
  },
  {
   "cell_type": "markdown",
   "metadata": {
    "collapsed": true
   },
   "source": [
    "Here are a couple of more conceptual questions. You might find the answer in the lecture slides, or you might have to do some internet research of your own. A good point to start is the [official Python documentation](https://docs.python.org/3/). Python also comes with a [long list of modules/libraries](https://docs.python.org/3/library) for a lot of common tasks. You can answer with text and/or an example code."
   ]
  },
  {
   "cell_type": "markdown",
   "metadata": {
    "collapsed": true
   },
   "source": [
    "<div class=\"alert alert-success\"><b>Question 1:</b> Given a variable <code>s = '      hello, there!      '</code>, how do you get a string without the leading and trailing spaces (only <code>'hello, there!'</code>), assuming you do not know the number of leading & trailing spaces?</div>"
   ]
  },
  {
   "cell_type": "markdown",
   "metadata": {
    "collapsed": true
   },
   "source": [
    "<b>Answer 1:</b>\n"
   ]
  },
  {
   "cell_type": "markdown",
   "metadata": {},
   "source": [
    "<div class=\"alert alert-success\"><b>Question 2:</b> Given the following nested list & dictionary definition, how do you print the value for the key <code>\"desc\"</code> in the second element of the list <code>frames</code>, without explicitly writing this value? </div>"
   ]
  },
  {
   "cell_type": "code",
   "execution_count": null,
   "metadata": {
    "code_folding": []
   },
   "outputs": [],
   "source": [
    "frames = [\n",
    "    {\"desc\": \"time = 0\",\n",
    "     \"natoms\": 3,\n",
    "     \"atoms\": [\n",
    "       [\"H\",  1, 0, 0],\n",
    "       [\"O\",  0, 0, 0],\n",
    "       [\"H\", -1, 0, 0],\n",
    "       ],\n",
    "    },\n",
    "    {\"desc\": \"time = 1\", # <== print the value for the key \"desc\" in this list entry\n",
    "     \"natoms\": 3,\n",
    "     \"atoms\": [\n",
    "       [\"H\",  0.75, 0.25, 0],\n",
    "       [\"O\",  0,    0,    0],\n",
    "       [\"H\", -0.75, 0.25, 0],\n",
    "       ],\n",
    "    },\n",
    "    {\"desc\": \"time = 2\",\n",
    "     \"natoms\": 3,\n",
    "     \"atoms\": [\n",
    "       [\"H\",  0.5, 0.5, 0],\n",
    "       [\"O\",  0,   0,   0],\n",
    "       [\"H\", -0.5, 0.5, 0],\n",
    "       ],\n",
    "    },\n",
    "]"
   ]
  },
  {
   "cell_type": "markdown",
   "metadata": {
    "collapsed": true
   },
   "source": [
    "<b>Answer 2:</b>\n"
   ]
  },
  {
   "cell_type": "markdown",
   "metadata": {},
   "source": [
    "<div class=\"alert alert-success\"><b>Question 3:</b> How do you calculate the cosine of an arbitrary floating point number stored in a variable <code>f</code>? Provide a working/running example.</div>"
   ]
  },
  {
   "cell_type": "markdown",
   "metadata": {
    "collapsed": true
   },
   "source": [
    "<b>Answer 3:</b>\n"
   ]
  }
 ],
 "metadata": {
  "kernelspec": {
   "display_name": "Python 3 (ipykernel)",
   "language": "python",
   "name": "python3"
  },
  "language_info": {
   "codemirror_mode": {
    "name": "ipython",
    "version": 3
   },
   "file_extension": ".py",
   "mimetype": "text/x-python",
   "name": "python",
   "nbconvert_exporter": "python",
   "pygments_lexer": "ipython3",
   "version": "3.10.10"
  },
  "latex_envs": {
   "LaTeX_envs_menu_present": true,
   "autoclose": false,
   "autocomplete": true,
   "bibliofile": "biblio.bib",
   "cite_by": "apalike",
   "current_citInitial": 1,
   "eqLabelWithNumbers": true,
   "eqNumInitial": 1,
   "hotkeys": {
    "equation": "Ctrl-E",
    "itemize": "Ctrl-I"
   },
   "labels_anchors": false,
   "latex_user_defs": false,
   "report_style_numbering": false,
   "user_envs_cfg": false
  },
  "toc": {
   "base_numbering": 1,
   "nav_menu": {},
   "number_sections": true,
   "sideBar": true,
   "skip_h1_title": false,
   "title_cell": "Table of Contents",
   "title_sidebar": "Contents",
   "toc_cell": false,
   "toc_position": {},
   "toc_section_display": true,
   "toc_window_display": false
  },
  "varInspector": {
   "cols": {
    "lenName": 16,
    "lenType": 16,
    "lenVar": 40
   },
   "kernels_config": {
    "python": {
     "delete_cmd_postfix": "",
     "delete_cmd_prefix": "del ",
     "library": "var_list.py",
     "varRefreshCmd": "print(var_dic_list())"
    },
    "r": {
     "delete_cmd_postfix": ") ",
     "delete_cmd_prefix": "rm(",
     "library": "var_list.r",
     "varRefreshCmd": "cat(var_dic_list()) "
    }
   },
   "types_to_exclude": [
    "module",
    "function",
    "builtin_function_or_method",
    "instance",
    "_Feature"
   ],
   "window_display": false
  }
 },
 "nbformat": 4,
 "nbformat_minor": 2
}
