{
 "cells": [
  {
   "cell_type": "markdown",
   "metadata": {},
   "source": [
    "# Exercise Sheet 4 <br/> CHE103 Übungen zu Anwendungen des Computers in der Chemie <br/> Spring Semester 2023\n",
    "\n",
    "***\n",
    "\n",
    "To hand in the exercise for feedback, upload this notebook containing your answers and your code back to OLAT before **Friday**. Handing in is **optional** but recommanded.\n",
    "\n",
    "<div class=\"alert alert-warning\">\n",
    "    <b>Important</b>: Before uploading a notebook with your answers back to OLAT, you need to make sure that everything works as intended. To do so, start by clearing all the outputs of the notebook by going to the toolbar and clicking <mark>Edit -> Clear All Outputs</mark> and then rerun all cells with a fresh kernel using <mark>Kernel -> Restart Kernel</mark> followed by <mark>Run -> Run All Cells</mark>. You should then go through your answers and double-check that everything is correct.\n",
    "</div>"
   ]
  },
  {
   "cell_type": "markdown",
   "metadata": {},
   "source": [
    "## Exercise 1: Nesting and Linear Algebra\n",
    "In computer science, nesting refers to data that is organized in a layered manner. In Python, we can typically encounter nesting when elements of a list (or a dictionary) are themselves lists (or dictionaries). This is very useful to create and keep complex data in a clear and organized fashion. Below is an example of nested dictionary describing a triangle and its properties:\n",
    "```python\n",
    "# triangle properties as a dictionary\n",
    "triangle = {}\n",
    "triangle[\"type\"] = \"right\"  # one 90 deg angle\n",
    "# the values associated to the keys \"sides\" and \"angles\" are dictionary themselves\n",
    "triangle[\"sides\"] = {\"a\":3.0, \"b\":4.0, \"c\":5.0, \"units\":\"cm\"} \n",
    "triangle[\"angles\"] = {\"alpha\":0.6435, \"beta\":0.9273, \"gamma\":1.5708, \"units\":\"radians\"}\n",
    "\n",
    "print(triangle[\"angles\"][\"beta\"]) # 0.9273 is printed\n",
    "\n",
    "```\n",
    "In this example, the values associated to the `\"sides\"` and `\"angles\"` keys are themselves dictionaries, which makes the querry for any information very straight forward. It is then very clear that `triangle[\"angles\"][\"beta\"]` is the angle $\\beta$ of our triangle, and that it is measured in `triangle[\"angles\"][\"units\"]`. In principle, there is no limit to how many layers a nested structure can have and list and dictionaries can be happily mixed.\n",
    "\n",
    "For linear algebra, it is possible to store a matrix as nested lists. For example, the matrix $\\  \\mathbf{B} = \\begin{pmatrix} 1 & 2 & 3 \\\\ 4 & 5 & 6 \\\\ 7 & 8 & 9\\end{pmatrix} $ can be saved in Python as:\n",
    "\n",
    "```python\n",
    "#Using a nested list to represent a matrix in Python\n",
    "matrix_b = [[1.,2.,3.], [4.,5.,6.], [7.,8.,9.]]\n",
    "```\n",
    "\n",
    "With this format available for matrices, we are only one step away from computational linear algebra! In this exercise, you will write a code that performs matrix-matrix multiplications. As a reminder, the product $\\mathbf{C} = \\mathbf{AB}$ is defined as follow:\n",
    "\n",
    "$$ \\large{ C_{ij} = \\sum_{k} A_{ik} B_{kj} }$$\n",
    "\n",
    "where $C_{ij}$ is the element of matrix $\\mathbf{C}$ sitting at the i<sup>th</sup> row and the j<sup>th</sup> column. In the general case, if matrix $\\mathbf{A}$ has $m$ rows and $k$ columns, matrix $\\mathbf{B}$ has $k$ rows and $n$ columns, then matrix $\\mathbf{C}$ has $m$ rows and $n$ columns.\n",
    "\n",
    "\n",
    "<div class=\"alert alert-success\"><b>Task 1:</b> Using <code>for</code> loops and nested lists as matrices, write a function that performs a square matrix-matrix multiplication in the code cell below. That is, matrix <b>A</b>, <b>B</b> and <b>C</b> all have the same number of rows and columns.</div>"
   ]
  },
  {
   "cell_type": "code",
   "execution_count": null,
   "metadata": {},
   "outputs": [],
   "source": [
    "def square_mm(matrix_a, matrix_b):\n",
    "    # This function should return the product of square matrices matrix_c = matrix_a * matrix_b\n",
    "    # where matrices A, B and C are square (i.e. same number of rows and columns)\n",
    "    \n",
    "    # define here the dimension for the new matrix_c, based on matrix_a and/or matrix_b\n",
    "    dim = \n",
    "    \n",
    "    # First define matrix_c such that it is a nested list of right dimensions\n",
    "    # filled with zeros\n",
    "    matrix_c = [[0. for i in range(dim)] for j in range(dim)]\n",
    "    \n",
    "    # Then compute the actual matrix-matrix product\n",
    "    # YOUR CODE HERE\n",
    "                \n",
    "    return matrix_c\n",
    "\n",
    "# you can test your code here. Do not modify the below variables for the test to work!\n",
    "a = [[1, 7, -1], [5, 2, -4], [4, -1, -1]]\n",
    "b = [[10, 1, -1], [2, -2, 2], [1, 2, -3]]\n",
    "c = [[23, -15, 16], [50, -7, 11], [37, 4, -3]]  # the solution if a*b defined above\n",
    "\n",
    "# Note that the == operator for lists checks that all elements are equivalent\n",
    "# We used integer matrices for this test such that the use of == makes sense\n",
    "print(\"Does your square matrix-matrix multiplication work?\", c == square_mm(a,b))"
   ]
  },
  {
   "cell_type": "markdown",
   "metadata": {},
   "source": [
    "Square matrix-matrix multiplication is a great thing, but in many real life applications it is not enough. For the general matrix product $\\mathbf{C} = \\mathbf{AB}$, special care must be taken to ensure that the dimensions of $\\mathbf{A}$ and $\\mathbf{B}$ are compatible, and that the dimensions of $\\mathbf{C}$ follows from that.\n",
    "\n",
    "<div class=\"alert alert-success\"><b>Task 2:</b> Using for loops and nested lists as matrices, write a function that performs a general matrix-matrix multiplication in the code cell below. Make sure that your function tests that the input matrices dimensions are compatible.</div>"
   ]
  },
  {
   "cell_type": "code",
   "execution_count": null,
   "metadata": {},
   "outputs": [],
   "source": [
    "def general_mm(matrix_a, matrix_b):\n",
    "    # This function should return the product of general matrices matrix_c = matrix_a * matrix_b\n",
    "    # if the dimensions of matrices A and B are nxk and kxm, then C must have n rows and n columns\n",
    "\n",
    "    # Check if the matrix dimensions are compatible and print a warning if not\n",
    "    \n",
    "    # First define matrix_c such that it is a nested list of right dimensions\n",
    "    # filled with zeros, use a modified version of the code given in the the square_mm\n",
    "    matrix_c = []\n",
    "    \n",
    "    # Then compute the actual matrix-matrix product\n",
    "    # YOUR CODE HERE\n",
    "                \n",
    "    return matrix_c\n",
    "\n",
    "# You can test your code here. Do not modify the below variables for the test to work!\n",
    "a = [[6, 7, -1], [-8, 2, -4]]\n",
    "b = [[1, -1, 2, 1], [4, -2, 4, -1], [1, 6, 0, 0]]\n",
    "c = [[33, -26, 40, -1], [-4, -20, -8, -10]]\n",
    "\n",
    "print(\"Does your general matrix-matrix multiplication work?\", c == general_mm(a,b))"
   ]
  },
  {
   "cell_type": "markdown",
   "metadata": {},
   "source": [
    "The above 2 tasks are meant as exercises for you to get used to nested lists and for loops. In the real world, linear algebra is so often used that people have already coded functions for matrix multiplication and other common operations. Those functions are generally stored in so-called libraries and are very well optimized for performance. The most common Python module for computation is called `NumPy`.\n",
    "\n",
    "<div class=\"alert alert-success\"><b>Task 3:</b> Browse the internet in order to find out what <code>NumPy</code> is and figure out how you can use this module to do matrix-matrix multiplications. Perform a such an operation in the code cell below as a proof.</div>"
   ]
  },
  {
   "cell_type": "code",
   "execution_count": null,
   "metadata": {},
   "outputs": [],
   "source": [
    "# Use numpy to perform a matrix-matrix multiplication\n"
   ]
  },
  {
   "cell_type": "markdown",
   "metadata": {},
   "source": [
    "## Exercise 2: While Loops and Converging Algorithms\n",
    "In computational science, it is very common to solve problems using converging algorithms. This usually happens when the solution cannot be obtained directly, but an iterative set of operations yields increasingly better approximations. For example, the mathematical constant $e \\simeq 2.718$ is equal to the infinite series: $$e = \\sum_{k=0}^\\infty \\frac{1}{k!} = \\frac{1}{1} + \\frac{1}{1} + \\frac{1}{1\\cdot2} + \\frac{1}{1\\cdot2\\cdot3} + \\ ...$$\n",
    "\n",
    "Obviously, we can not sum forever and the exact value of $e$ is not know. However, we can get a good enough approximation by truncating the series after a finite number of additions. We say that the result has (numerically) converged when the absolute difference between two consecutive approximations is smaller than a given threshold $\\epsilon$. That is, if\n",
    "$$ \\left|\\sum_{k=0}^{m}\\frac{1}{k!} - \\sum_{k=0}^{m-1}\\frac{1}{k!} \\right| \\lt \\varepsilon $$\n",
    "then we can stop adding after $m$ iterations and use the outcome as an approximation to $e$. Note that the value of the threshold defines the quality of the approximation and the number of iterations $m$ is not know in advance.\n",
    "\n",
    "In the example below, the value of $e$ is iteratively computed to a threshold of 0.01. Note that a while-loop is used, with its content executed only as long as the approximation is not good enough. Run the example multiple times with different thresholds to see what happens."
   ]
  },
  {
   "cell_type": "code",
   "execution_count": null,
   "metadata": {},
   "outputs": [],
   "source": [
    "# import the math module so that one can use the factorial \n",
    "import math \n",
    "\n",
    "# initilazing the variables\n",
    "new_estimate = 0.0     # holds the sum, so start from 0.0\n",
    "old_estimate = 100.0   # put anything here as long as we can enter the loop\n",
    "threshold = 0.01       # defines the quality of the approximation\n",
    "k = 0                  # we start the series with k=0\n",
    "\n",
    "while abs(new_estimate-old_estimate) > threshold: # execute only if this is true\n",
    "        \n",
    "    old_estimate = new_estimate     # make sure to save the previous estimate to check for convergence \n",
    "    new_estimate += 1/math.factorial(k) # add the new term 1/k! to the estimate\n",
    "    k += 1                              # contrary to for-loops, need to update k ourselves\n",
    "    print(\"After \", k, \" iterations, the estimate is: \", new_estimate)\n",
    "    \n",
    "# For comparison purposes:\n",
    "print(\"\\nThe value of 'e' is also stored in the math module as a very precise approximation:\")\n",
    "print(\"math.e = \", math.e)"
   ]
  },
  {
   "cell_type": "markdown",
   "metadata": {},
   "source": [
    "<b>The n<sup>th</sup> root of a number $A$</b> is such a problem. It cannot be directly evaluated, but is rather the result of an iterative procedure. One algorithm to compute such a root is the following (source: https://en.wikipedia.org/wiki/Nth_root_algorithm):\n",
    "\n",
    "<ol>\n",
    "<li> Make an initial guess $x_0$ for the n<sup>th</sup> root of A. The better the guess, the faster the convergence.</li>\n",
    "<li> Compute the next approximation $\\large x_{k+1} = \\frac{1}{n} \\left[ (n-1)x_k + \\frac{A}{x_k^{n-1}} \\right]$  \n",
    "Note here that $x_k^{n-1}$ is the previous approximation elevated to the $n-1$ power.</li>\n",
    "<li> Keep iterating <i>while</i> the absolute value $|x_{k+1}-x_{k}|\\geq \\varepsilon$, where $\\varepsilon$ is a given convergence threshold.</li>\n",
    "</ol>\n",
    "\n",
    "<div class=\"alert alert-success\"><b>Task:</b> Write a general function that iteratively computes the n<sup>th</sup> root of a positive real number $A$, starting from a provided <code>guess</code> and up to a given convergence <code>threshold</code>. Use a <code>while</code> loop!</div>"
   ]
  },
  {
   "cell_type": "code",
   "execution_count": null,
   "metadata": {},
   "outputs": [],
   "source": [
    "def nth_root_of_A(A, n, guess, threshold):\n",
    "    #returns the nth root of A using an iterative algorithm\n",
    "    #starting at guess, with the convergence threshold \n",
    "    root = 0.0\n",
    "\n",
    "    return root\n",
    "    \n",
    "#Show that your code works with a few examples\n"
   ]
  },
  {
   "cell_type": "markdown",
   "metadata": {},
   "source": [
    "## Exercise 3: Theoretical Questions\n",
    "Here are a couple of more conceptual questions. You might find the answer in the lecture slides, or you might have to do some internet research of your own. A good point to start is the [official Python documentation](https://docs.python.org/3/). Python also comes with a [long list of modules/libraries](https://docs.python.org/3/library) for a lot of common tasks. You can answer with text and/or an example code."
   ]
  },
  {
   "cell_type": "markdown",
   "metadata": {},
   "source": [
    "<div class=\"alert alert-success\"><b>Question 1:</b> Assuming you have the following nested structure in your code to represent the family tree of your friend Fred: </div>\n",
    "</div>\n",
    "\n",
    "```python\n",
    "freds_family_tree = {\"father\":{\"name\": \"Arnold\",\n",
    "                               \"birth\": 1959,\n",
    "                               \"siblings\": [\"Kate\", \"Rob\", \"Donald\"]\n",
    "                              },\n",
    "                     \"mother\":{\"name\": \"Elisabeth\",\n",
    "                               \"birth\": 1956,\n",
    "                               \"siblings\": []\n",
    "                              }\n",
    "                    }\n",
    "```\n",
    "<div class=\"alert alert-success\"> How do you access and print the name of the 2<sup>nd</sup> sibling of Fred's father ? </div>"
   ]
  },
  {
   "cell_type": "markdown",
   "metadata": {},
   "source": [
    "__Answer 1:__"
   ]
  },
  {
   "cell_type": "markdown",
   "metadata": {},
   "source": [
    "<div class=\"alert alert-success\"><b>Question 2:</b> You have been told to use <code>for</code> loops for this series first exercise on matrix-matrix multiplication. In this case, why is that better than <code>while</code> loops? </div>"
   ]
  },
  {
   "cell_type": "markdown",
   "metadata": {},
   "source": [
    "__Answer 2:__"
   ]
  },
  {
   "cell_type": "markdown",
   "metadata": {},
   "source": [
    "<div class=\"alert alert-success\"><b>Question 3:</b>  Which <code>NumPy</code> function can you use too: \n",
    "<ol>\n",
    "<li> Add matrices ?</li>\n",
    "<li> Compute the eigenvalues of a square matrix ? </li>\n",
    "<li> Invert a matrix ? </li>\n",
    "</ol>\n",
    "</div>"
   ]
  },
  {
   "cell_type": "markdown",
   "metadata": {},
   "source": [
    "__Answer 3:__"
   ]
  }
 ],
 "metadata": {
  "kernelspec": {
   "display_name": "Python 3 (ipykernel)",
   "language": "python",
   "name": "python3"
  },
  "language_info": {
   "codemirror_mode": {
    "name": "ipython",
    "version": 3
   },
   "file_extension": ".py",
   "mimetype": "text/x-python",
   "name": "python",
   "nbconvert_exporter": "python",
   "pygments_lexer": "ipython3",
   "version": "3.10.10"
  }
 },
 "nbformat": 4,
 "nbformat_minor": 2
}
