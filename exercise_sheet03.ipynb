{
 "cells": [
  {
   "cell_type": "markdown",
   "metadata": {},
   "source": [
    "# Exercise Sheet 3 <br/> CHE103 Übungen zu Anwendungen des Computers in der Chemie <br/> Spring Semester 2023\n",
    "\n",
    "***\n",
    "\n",
    "To hand in the exercise for feedback, upload this notebook containing your answers and your code back to OLAT before **Friday**. Handing in is **optional** but recommanded.\n",
    "\n",
    "<div class=\"alert alert-warning\">\n",
    "    <b>Important</b>: Before uploading a notebook with your answers back to OLAT, you need to make sure that everything works as intended. To do so, start by clearing all the outputs of the notebook by going to the toolbar and clicking <mark>Edit -> Clear All Outputs</mark> and then rerun all cells with a fresh kernel using <mark>Kernel -> Restart Kernel</mark> followed by <mark>Run -> Run All Cells</mark>. You should then go through your answers and double-check that everything is correct.\n",
    "</div>"
   ]
  },
  {
   "cell_type": "markdown",
   "metadata": {},
   "source": [
    "## Exercise 1: SMILES and functions\n",
    "\n",
    "In this exercise we classify hydrocarbons based on their SMILES string. For simplicity we consider here only alkanes (single bond), alkenes (double bond), alkynes (triple bond) and cycloalkanes (ring).\n",
    "\n",
    "<div class=\"alert alert-success\"><b>Task:</b> Write a function <code>hydrocarbon_group</code> that decides whether a compound is a hydrocarbon and (if yes) to which group it belongs. This function should take a SMILES string and return <code>\"alkane\"</code>, <code>\"alkene\"</code>, <code>\"alkyne\"</code>, <code>\"cycloalkane\"</code> or <code>None</code>.</div>\n",
    "\n",
    "__Hint:__ The SMILES strings of these compounds consist of only 4 characters: `C`, `1`, `=` and `#`. If additional characters appear in the SMILES string, the compound is not a hydrocarbon. Use `if/elif` statements to analyze the SMILES string."
   ]
  },
  {
   "cell_type": "code",
   "execution_count": 40,
   "metadata": {},
   "outputs": [
    {
     "name": "stdout",
     "output_type": "stream",
     "text": [
      "methane is alkane\n",
      "propene is alkene\n",
      "ethyne is alkyne\n",
      "cyclobutane is cycloalkane\n",
      "methyl isocyanate is None\n"
     ]
    }
   ],
   "source": [
    "def hydrocarbon_group(smiles):\n",
    "    # If anything else than the characters C, 1, =, # appear in the SMILES\n",
    "    # we don't have a hydrocarbon.\n",
    "    \n",
    "    for character in smiles:  # go through all characters in the provided smiles\n",
    "        if character not in [\"C\", \"1\", \"=\", \"#\"]:\n",
    "            # if any of the characters is NOT a C, 1, = or #, return the value None\n",
    "            # since we do not have a hydrocarbon group and we can exit the function\n",
    "            # immediately\n",
    "            return None  # None (without \"\") is a separate datatype\n",
    "    \n",
    "    # From here on we can be sure that the string in the variable smiles\n",
    "    # only contains C, #, 1 or =, meaning we can check for the different\n",
    "    # features. Please note: the order of the if/elif's are important!\n",
    "    \n",
    "    if \"1\" in smiles:  # a \"1\" is a marker for a ring\n",
    "        answer = \"cycloalkane\"\n",
    "    elif \"#\" in smiles:  # if there is a triple bond\n",
    "        answer = \"alkyne\"\n",
    "    elif \"=\" in smiles:  # have a double bond\n",
    "        answer = \"alkene\"\n",
    "    else:  # if we got neither a triple or double bond or a ring\n",
    "        answer = \"alkane\"\n",
    "\n",
    "    # return the content of the variable answer as result of this function\n",
    "    return answer\n",
    "\n",
    "# test your function by checking whether the output below is correct\n",
    "print('methane is', hydrocarbon_group('C'))\n",
    "print('propene is', hydrocarbon_group('C=CC'))\n",
    "print('ethyne is', hydrocarbon_group('C#C'))\n",
    "print('cyclobutane is', hydrocarbon_group('C1CCC1'))\n",
    "print('methyl isocyanate is', hydrocarbon_group('CN=C=O'))"
   ]
  },
  {
   "attachments": {},
   "cell_type": "markdown",
   "metadata": {},
   "source": [
    "## Exercise 2: Dictionaries\n",
    "\n",
    "\n",
    "You are working in a chemical lab that is specialized in petroleum analysis. Your job is to classify petroleum samples as paraffinic (i.e. contains mostly alkanes) or naphthenic (i.e. contains mostly cycloalkanes) according to the table below:\n",
    "\n",
    "\n",
    "| Class      | Alk. wt.%| Cycl. wt.%|\n",
    "|------------|----------|-----------|\n",
    "| Paraffinic | 46-61    | 22-32     |\n",
    "| Naphthenic | 15-26    | 61-76     |\n",
    "\n",
    "Your lab colleague has analysed a sample of petroleum. Since she is not only a skilled chemist but also a Python pro, she sends you her results as a Python dictionary `petroleum_composition`, where the values are weight percentages:\n"
   ]
  },
  {
   "cell_type": "code",
   "execution_count": 41,
   "metadata": {},
   "outputs": [
    {
     "name": "stdout",
     "output_type": "stream",
     "text": [
      "compound (SMILES), weight percent:\n",
      "C1CC1 24\n",
      "CCC 22\n",
      "CCCC 20\n",
      "C=CC 12\n",
      "CC 8\n",
      "C1CCC1 7\n",
      "C1=CC=NC=C1 3\n"
     ]
    }
   ],
   "source": [
    "petroleum_composition = {\"C1CC1\": 24, \"CCC\": 22, \"CCCC\": 20, \"C=CC\": 12, \"CC\": 8, \"C1CCC1\": 7, \"C1=CC=NC=C1\": 3}\n",
    "\n",
    "print(\"compound (SMILES), weight percent:\")\n",
    "for key in petroleum_composition:\n",
    "    print(key, petroleum_composition[key])"
   ]
  },
  {
   "cell_type": "markdown",
   "metadata": {},
   "source": [
    "<div class=\"alert alert-success\"><b>Task:</b> By making use of the function <code>hydrocarbon_group</code> defined above, create a new dictionary that contains as keys the hydrocarbon groups and as values their weight percents. Print the dictionary."
   ]
  },
  {
   "cell_type": "markdown",
   "metadata": {},
   "source": [
    "__Hint:__ The weight percent of a hydrocarbon group is the sum of the weight percents of all compounds of that group."
   ]
  },
  {
   "cell_type": "code",
   "execution_count": 42,
   "metadata": {},
   "outputs": [
    {
     "name": "stdout",
     "output_type": "stream",
     "text": [
      "total weight percent of the hydrocarbon group alkane is 50\n",
      "total weight percent of the hydrocarbon group alkene is 12\n",
      "total weight percent of the hydrocarbon group alkyne is 0\n",
      "total weight percent of the hydrocarbon group cycloalkane is 31\n"
     ]
    }
   ],
   "source": [
    "# start with a dictionary with pre-defined keys for the different\n",
    "# hydrocarbon groups and with the integer value 0\n",
    "\n",
    "hc_group_weights = {\n",
    "    \"alkane\": 0,\n",
    "    \"alkene\": 0,\n",
    "    \"alkyne\": 0,\n",
    "    \"cycloalkane\": 0,\n",
    "}\n",
    "\n",
    "for key in petroleum_composition:  # copied from above, to go through the provided values\n",
    "    group = hydrocarbon_group(key)\n",
    "    \n",
    "    # first we have to check whether it is a hydrocarbon group at all\n",
    "    if group is not None:\n",
    "        # then add the value\n",
    "        hc_group_weights[group] += petroleum_composition[key]\n",
    "\n",
    "for key in hc_group_weights:\n",
    "    print(\"total weight percent of the hydrocarbon group\", key, \"is\", hc_group_weights[key])"
   ]
  },
  {
   "cell_type": "markdown",
   "metadata": {},
   "source": [
    "<div class=\"alert alert-success\"><b>Question:</b> Is this petroleum sample paraffinic or naphthenic? </div>"
   ]
  },
  {
   "cell_type": "markdown",
   "metadata": {},
   "source": [
    "__Answer:__"
   ]
  },
  {
   "cell_type": "markdown",
   "metadata": {},
   "source": [
    "## Exercise 3: Using the RCSB Protein Data Bank\n",
    "\n",
    "The following example illustrates how you could use Python to automate some simple data analysis (and of course, using loops, lists and dictionaries).\n",
    "\n",
    "We are going to use some data from the [RCSB PDB](https://www.rcsb.org/) database:\n",
    "\n",
    "* Go to the website and search for a molecule with the ID `1XF0`. This enzyme _17-beta hydroxysteroid dehydrogenase_ is part of the process of creating Testosterone (you can read more about its purpose and its relation to Anabolic Steroids on the [RCSB PDB Molecule of the Month page](http://pdb101.rcsb.org/motm/92)).\n",
    "\n",
    "First we are going to inspect this enzyme visually:\n",
    "* Click on `3D View: Structure` on the left side of the page, under the 3D representation of the enzyme.\n",
    "* Choose `JSmol (JavaScript)` under `select a different viewer` at the bottom right of the page.\n",
    "* Helices and sheets now appear in different colors.\n",
    "\n",
    "<div class=\"alert alert-success\"><b>Task 1:</b> Count the number of $\\alpha$-helices and $\\beta$-sheets.</div>"
   ]
  },
  {
   "cell_type": "markdown",
   "metadata": {},
   "source": [
    "Now we are going to do the same task programmatically using the PDB file:\n",
    "* Download the molecule in PDB format.\n",
    "* Make sure that the file `1xf0.pdb` is in the same folder as this notebook and run the next Python cell."
   ]
  },
  {
   "cell_type": "code",
   "execution_count": null,
   "metadata": {},
   "outputs": [],
   "source": [
    "# open the file for reading using a 'with' statement\n",
    "with open(\"1xf0.pdb\", \"r\") as myfile: # associate the file with the variable 'myfile'\n",
    "    # and read the complete file into the variable 'content'\n",
    "    content = myfile.read()\n",
    "# after such a 'with' statement, the file is automatically closed again\n",
    "\n",
    "# but its content is still contained in the variable 'content'\n",
    "print(content)"
   ]
  },
  {
   "cell_type": "markdown",
   "metadata": {},
   "source": [
    "When browsing through the file content above you should notice that the atoms, helices and sheets are directly specified in it.\n",
    "\n",
    "<div class=\"alert alert-success\"><b>Task 2:</b> Write a loop to count and print the number of atoms, helices and sheets.</div>\n",
    "\n",
    "__Hint__: You need the functions from the past exercises/lectures to get a list of lines from the file content. Then loop over the lines and check whether they start with a specific word. Be careful: for the sheets you can't simply count the lines since they consist of multiple strands (see also the [PDB File Format Documentation for SHEET](http://www.wwpdb.org/documentation/file-format-content/format33/sect5.html#SHEET))."
   ]
  },
  {
   "cell_type": "code",
   "execution_count": null,
   "metadata": {},
   "outputs": [],
   "source": [
    "# your code here"
   ]
  },
  {
   "cell_type": "markdown",
   "metadata": {},
   "source": [
    "And finally, we would like to get some statistics on the amino acids occurring in the given enzyme (specified in the lines starting with `SEQRES`).\n",
    "\n",
    "<div class=\"alert alert-success\"><b>Task 3 (Advanced):</b> Write another loop which counts all amino acids and some code to print the statistics in the form<br/>\n",
    "<code>\n",
    "GLY: 3\n",
    "ALA: 5\n",
    "...\n",
    "</code>\n",
    "</div>\n",
    "\n",
    "__Hint__: Even though the amino acids are all known, it is very easy to avoid having to define them in your script manually when using dictionaries. Loop over the lines of the file and analyze those starting with `SEQRES`. For each amino acid present, check whether there is already a key in the `amino_acids` dictionary. If no, create a new key with value 1. If yes, increment the corrsponding value by one.  \n",
    "\n",
    "<div class=\"alert alert-warning\">\n",
    "    <b>Note:</b> This task requires a fairly advanced programming level. For a simpler exercise, you can simply (programatically) count and print the total amount of amino acids.\n",
    "</div>"
   ]
  },
  {
   "cell_type": "code",
   "execution_count": null,
   "metadata": {},
   "outputs": [],
   "source": [
    "# your code here\n",
    "amino_acids = {} # the keys in this dictionary will be the amino acids (GLY, ALA, etc.)"
   ]
  },
  {
   "cell_type": "markdown",
   "metadata": {},
   "source": [
    "## Exercise 4: Theoretical Questions\n",
    "Here are a couple of more conceptual questions. You might find the answer in the lecture slides, or you might have to do some internet research of your own. A good point to start is the [official Python documentation](https://docs.python.org/3/). Python also comes with a [long list of modules/libraries](https://docs.python.org/3/library) for a lot of common tasks. You can answer with text and/or an example code."
   ]
  },
  {
   "cell_type": "markdown",
   "metadata": {},
   "source": [
    "<div class=\"alert alert-success\"><b>Question 1:</b> How can you remove an item from a dictionary ? </div>"
   ]
  },
  {
   "cell_type": "markdown",
   "metadata": {},
   "source": [
    "__Answer 1:__"
   ]
  },
  {
   "cell_type": "markdown",
   "metadata": {},
   "source": [
    "<div class=\"alert alert-success\"><b>Question 2:</b> Suppose you want to store the square roots of all square numbers between 1 and 100 in a Python object called <code>squareroot</code> such that <code>squareroot[1] == 1</code>, <code>squareroot[4] == 2</code>, <code>squareroot[9] == 3</code>, ... <code>squareroot[100] == 10</code>. Would you choose a list or a dictionary for <code>squareroot</code>? What would be the required length <code>len(squareroot)</code> of this object in both cases?"
   ]
  },
  {
   "cell_type": "markdown",
   "metadata": {},
   "source": [
    "__Answer 2:__"
   ]
  },
  {
   "cell_type": "markdown",
   "metadata": {},
   "source": [
    "<div class=\"alert alert-success\"><b>Question 3:</b>  In exercise 2, your colleague has chosen SMILES strings as keys in the dictionary <code>petroleum_composition</code>. Could he have chosen strings representing the chemical formula instead (such as <code>\"C3H6\"</code> for propene instead of <code>\"C=CC\"</code>)?"
   ]
  },
  {
   "cell_type": "markdown",
   "metadata": {},
   "source": [
    "__Answer 3:__"
   ]
  },
  {
   "cell_type": "markdown",
   "metadata": {},
   "source": [
    "<div class=\"alert alert-success\"><b>Question 4:</b> Why do we need <code>InChI</code>s when we already have <code>SMILES</code>? </div>"
   ]
  },
  {
   "cell_type": "markdown",
   "metadata": {},
   "source": [
    "__Answer 4:__"
   ]
  }
 ],
 "metadata": {
  "kernelspec": {
   "display_name": "Python 3 (ipykernel)",
   "language": "python",
   "name": "python3"
  },
  "language_info": {
   "codemirror_mode": {
    "name": "ipython",
    "version": 3
   },
   "file_extension": ".py",
   "mimetype": "text/x-python",
   "name": "python",
   "nbconvert_exporter": "python",
   "pygments_lexer": "ipython3",
   "version": "3.10.11"
  },
  "latex_envs": {
   "LaTeX_envs_menu_present": true,
   "autoclose": false,
   "autocomplete": true,
   "bibliofile": "biblio.bib",
   "cite_by": "apalike",
   "current_citInitial": 1,
   "eqLabelWithNumbers": true,
   "eqNumInitial": 1,
   "hotkeys": {
    "equation": "Ctrl-E",
    "itemize": "Ctrl-I"
   },
   "labels_anchors": false,
   "latex_user_defs": false,
   "report_style_numbering": false,
   "user_envs_cfg": false
  },
  "varInspector": {
   "cols": {
    "lenName": 16,
    "lenType": 16,
    "lenVar": 40
   },
   "kernels_config": {
    "python": {
     "delete_cmd_postfix": "",
     "delete_cmd_prefix": "del ",
     "library": "var_list.py",
     "varRefreshCmd": "print(var_dic_list())"
    },
    "r": {
     "delete_cmd_postfix": ") ",
     "delete_cmd_prefix": "rm(",
     "library": "var_list.r",
     "varRefreshCmd": "cat(var_dic_list()) "
    }
   },
   "types_to_exclude": [
    "module",
    "function",
    "builtin_function_or_method",
    "instance",
    "_Feature"
   ],
   "window_display": false
  }
 },
 "nbformat": 4,
 "nbformat_minor": 4
}
