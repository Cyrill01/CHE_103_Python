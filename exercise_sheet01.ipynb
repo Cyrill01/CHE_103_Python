{
 "cells": [
  {
   "cell_type": "markdown",
   "metadata": {},
   "source": [
    "# Exercise Sheet 1 <br/> CHE103 Übungen zu Anwendungen des Computers in der Chemie <br/> Spring Semester 2023\n",
    "\n",
    "***\n",
    "\n",
    "To hand in the exercise for feedback, upload this notebook containing your answers and your code back to OLAT before **Friday**. Handing in is **optional** but recommanded.\n",
    "\n",
    "<div class=\"alert alert-warning\">\n",
    "    <b>Important</b>: Before uploading a notebook with your answers back to OLAT, you need to make sure that everything works as intended. To do so, start by clearing all the outputs of the notebook by going to the toolbar and clicking <mark>Edit -> Clear All Outputs</mark> and then rerun all cells with a fresh kernel using <mark>Kernel -> Restart Kernel</mark> followed by <mark>Run -> Run All Cells</mark>. You should then go through your answers and double-check that everything is correct.\n",
    "</div>\n",
    "\n",
    "***\n",
    "\n",
    "## Introduction and Examples\n",
    "\n",
    "All the exercise sheets used in this class (CHE103) will be in the Jupyter Notebook format. This is a very handy format, which enables easy mixing of text and code. The building blocks of a Jupyter Notebook are called cells, which can have two main types: Markdown (for text editing) or code. This introduction is itself contained in a Markdown cell whereas the next example is in a code cell."
   ]
  },
  {
   "cell_type": "code",
   "execution_count": null,
   "metadata": {},
   "outputs": [],
   "source": [
    "# A very basic example code\n",
    "print(\"Hello world!\")"
   ]
  },
  {
   "cell_type": "markdown",
   "metadata": {},
   "source": [
    "To edit a cell, simply double-click on it. After making changes, you can run the cell by going to the toolbar at the top of the page and select `Run -> Run Selected Cells` or use the keyboard shortcut `Shift+Enter`. For a Markdown cell, running will simply render the text. For a code cell, the code is executed. Try running the above example to see what happens!\n",
    "\n",
    "In this exercise sheet, you are not required to create new cells. To answer questions, simply edit the Markdown cells which start with __Answer__ and run. If you are asked to modify code, edit the existing cell and run. In the following example, some basic mathematical operations are performed. Feel free to run the cell, modify the values of variables `x` and `y`, and rerun to get a feeling for it:"
   ]
  },
  {
   "cell_type": "code",
   "execution_count": null,
   "metadata": {},
   "outputs": [],
   "source": [
    "# Initialization\n",
    "x = 11\n",
    "y = 5\n",
    "\n",
    "# Do some basic math\n",
    "add = x+y\n",
    "prod = x*y\n",
    "diff = x-y\n",
    "div = x/y\n",
    "\n",
    "# Print the results\n",
    "print(\"The value of x is: \", x)\n",
    "print(\"The value of y is: \", y)\n",
    "print(\"x+y = \", add)\n",
    "print(\"x*y = \", prod)\n",
    "print(\"x-y = \", diff)\n",
    "print(\"x/y = \", div)"
   ]
  },
  {
   "cell_type": "markdown",
   "metadata": {},
   "source": [
    "Note the use of the `#` symbol in the above cell. All the words to the right of it make up a comment. Comments are completely ignored when the code is run, but they are great for code documentation and it is _highly_ recommended to use them for that purpose.\n",
    "\n",
    "A feature of Jupyter Notebooks is that all variables are shared among the cells. To illustrate this, run the next two code cells. As an output, you should get `x =  0.2  and y =  -5`. However, if you rerun the previous example and reprint, you get whatever was defined there. If you are not carefull, mix-ups can happen. This is the reason why you are asked to restart the kernel (which clears all variables) and rerun everything before handing in the exercise."
   ]
  },
  {
   "cell_type": "code",
   "execution_count": null,
   "metadata": {},
   "outputs": [],
   "source": [
    "# Assigning values to x and y variables\n",
    "x = 0.2\n",
    "y = -5"
   ]
  },
  {
   "cell_type": "code",
   "execution_count": null,
   "metadata": {},
   "outputs": [],
   "source": [
    "# Printing the variables x and y\n",
    "print(\"x = \", x, \" and y = \", y)"
   ]
  },
  {
   "cell_type": "markdown",
   "metadata": {},
   "source": [
    "## Exercise 1: The Art of Finding Bugs\n",
    "\n",
    "Even though development environments (like the Python Notebooks) improved in the last couple of years and help with preventing bugs by doing autocompletion and syntax highlighting, you will sooner or later be in the position where the code you or someone else wrote does not work.\n",
    "\n",
    "Actually, there are 3 different categories of errors you can encounter:\n",
    "\n",
    "* Syntax and indentation errors\n",
    "* Runtime errors\n",
    "* Logical errors\n",
    "\n",
    "For the first two categories Python will generate an error message, trying to tell you what is wrong with your code.\n",
    "Run the following cells to see the different error messages:"
   ]
  },
  {
   "cell_type": "code",
   "execution_count": null,
   "metadata": {},
   "outputs": [],
   "source": [
    "# a missing parenthesis will generate a Syntax Error:\n",
    "print(\"I would like to print this\""
   ]
  },
  {
   "cell_type": "code",
   "execution_count": null,
   "metadata": {},
   "outputs": [],
   "source": [
    "# a missing quotation mark does too, but with a slightly different messages\n",
    "print(\"I would like to print this)"
   ]
  },
  {
   "cell_type": "code",
   "execution_count": null,
   "metadata": {},
   "outputs": [],
   "source": [
    "# after an if-statement (respectively after any statement ending with a colon ':'),\n",
    "# Python expects at least one indented line and therefore gives an IndentationError\n",
    "if 1 == 2:\n",
    "print(\"1 is equal to 2? someone divided by 0!\")"
   ]
  },
  {
   "cell_type": "markdown",
   "metadata": {},
   "source": [
    "Runtime errors may be a bit more difficult to fix, since Python detects them along the way while running the respective instruction. The following will give you one type of runtime error:"
   ]
  },
  {
   "cell_type": "code",
   "execution_count": null,
   "metadata": {},
   "outputs": [],
   "source": [
    "print(\"what is your name?\")\n",
    "print(\"my name is\", name)"
   ]
  },
  {
   "cell_type": "markdown",
   "metadata": {},
   "source": [
    "Did you notice that the first line `what is your name?` was already printed before the execution stopped?\n",
    "This may go so far that an error may happen only occasionally, for example based on your input data.\n",
    "\n",
    "Finally, there are logical errors, which Python is unable to detect. These range from wrong algorithms to wrong implementations of an algorithm (remember the first lecture) or simply wrong indentations:"
   ]
  },
  {
   "cell_type": "code",
   "execution_count": null,
   "metadata": {},
   "outputs": [],
   "source": [
    "a_sum = 0\n",
    "max_n = 5\n",
    "\n",
    "for i in range(1, max_n+1):\n",
    "    print(\"adding\", i, \"to the arithmetic sum\")\n",
    "a_sum += i\n",
    "\n",
    "print(\"the sum of all integers from 1 to\", max_n, \"is:\", a_sum)"
   ]
  },
  {
   "cell_type": "markdown",
   "metadata": {},
   "source": [
    "<div class=\"alert alert-success\"><b>Task:</b> Fix the examples (all of them) above.</div>"
   ]
  },
  {
   "cell_type": "markdown",
   "metadata": {},
   "source": [
    "## Exercise 2: Types and Operations\n",
    "Each variable you may define has a type and a value. For the CPU to work as intended, it must know the common type of the provided variables in order to choose the correct operation (*e.g.* integer addition, float multiplication, etc.). Thus, any operation beetween variables of different types is in principle forbidden. However, Pyhton is smart and it allows for mixed type operations (*i.e.* Python automatically performs type conversion before the operation), as long as they are deemed safe. In the code cell below, an int `a` is added to a float `b` and the sum is stored in a variable named `add`. Run the cell and consider the outcome."
   ]
  },
  {
   "cell_type": "code",
   "execution_count": null,
   "metadata": {},
   "outputs": [],
   "source": [
    "# Example: adding an int and a float\n",
    "a = 10\n",
    "print(\"The type of a is \", type(a))\n",
    "b = 2.0\n",
    "print(\"The type of b is \", type(b))\n",
    "add = a+b\n",
    "print(\"The sum is \", add, \" and its type is \", type(add))\n"
   ]
  },
  {
   "cell_type": "markdown",
   "metadata": {},
   "source": [
    "Because it is mathematically allowed to add integers and real numbers, the above code cell runs smoothly and the sum `add` is logically assigned the float type. You will now try different combinations of variable types and operation to get a feel for it. In each of the following code cell, implement the required operation and print the type of the outcome (as in the example above). Make sure you understand what happens.\n",
    "\n",
    "__Divide an int by a float:__"
   ]
  },
  {
   "cell_type": "code",
   "execution_count": null,
   "metadata": {},
   "outputs": [],
   "source": [
    "# Divide an int by a float in this cell\n"
   ]
  },
  {
   "cell_type": "markdown",
   "metadata": {},
   "source": [
    "<b>Mulitply an int and a complex: </b>"
   ]
  },
  {
   "cell_type": "code",
   "execution_count": null,
   "metadata": {},
   "outputs": [],
   "source": [
    "# Multiply an int and a complex in this cell\n"
   ]
  },
  {
   "cell_type": "markdown",
   "metadata": {},
   "source": [
    "<b>Divide a complex by a float: </b>"
   ]
  },
  {
   "cell_type": "code",
   "execution_count": null,
   "metadata": {},
   "outputs": [],
   "source": [
    "# Divide a complex by a float in this cell\n"
   ]
  },
  {
   "cell_type": "markdown",
   "metadata": {},
   "source": [
    "There are other types than the mathematical ones available in Python. A good example of this is the string type (abreviated `str`), which represent strings of characters. In short, this is a fancy way of naming text. Strings can be added, as the code cell below demonstrates:"
   ]
  },
  {
   "cell_type": "code",
   "execution_count": null,
   "metadata": {},
   "outputs": [],
   "source": [
    "# Example: adding strings\n",
    "str1 = \"Hello\"\n",
    "str2 = \" \"\n",
    "str3 = \"world!\"\n",
    "\n",
    "add = str1+str2+str3\n",
    "print(\"The sum of strings is: \", add, \" and its type is: \", type(add))"
   ]
  },
  {
   "cell_type": "markdown",
   "metadata": {},
   "source": [
    "As you can see, adding strings together comes down to concatenating them. In the code cell below, try multiplying a string by an int. As you did before, print the outcome and make sure you understand what happens.\n",
    "\n",
    "<b>Multiply a string by an int: </b>"
   ]
  },
  {
   "cell_type": "code",
   "execution_count": null,
   "metadata": {},
   "outputs": [],
   "source": [
    "#Multiply a string by an int in this cell\n"
   ]
  },
  {
   "cell_type": "markdown",
   "metadata": {},
   "source": [
    "Finally, briefly answer the following questions. Directly edit the cell below (by double-clicking on it) with your answers."
   ]
  },
  {
   "cell_type": "markdown",
   "metadata": {},
   "source": [
    "__Can you add a string and an int ?:__ (answer here)\n",
    "\n",
    "__What would be the type of the sum of an int, a float and a complex ?:__ (answer here)\n",
    "\n",
    "__Can you substract strings ?:__ (answer here)"
   ]
  },
  {
   "cell_type": "markdown",
   "metadata": {},
   "source": [
    "## Exercise 3: Simple Calculations\n",
    "Programming really comes in handy when one needs to perform a given task on a regular basis. For example, you might often need to compute the circumference of circle with a given radius. Each time this happens, you could take your calculator out and enter the $2\\pi r$ formula with the risk of misstyping, or use the program below where you only need to enter a value for `r`.\n",
    "\n",
    "The advantage of such a program might not be obvious yet. Now imagine you have to provide not only the circumference of the circle with radius `r`, but also its area and the volume of the corresponding sphere. Now, instead of typing three different formulas in your calculator for each `r`, you can simply run the program once!\n",
    "\n",
    "<div class=\"alert alert-success\"><b>Task:</b> Complete the code cell below to compute and print the circumference of a circle with radius <mark>r</mark>, its area and the volume of the corresponding sphere.</div>"
   ]
  },
  {
   "cell_type": "code",
   "execution_count": null,
   "metadata": {},
   "outputs": [],
   "source": [
    "import math\n",
    "\n",
    "# Assigning a value to the radius\n",
    "r = 10.0\n",
    "\n",
    "# Calculate the circumference of the circle with radius r\n",
    "circ = 2*math.pi*r\n",
    "print(\"The circumference of the circle with radius \", r, \" is \", circ)\n",
    "\n",
    "# Calculate the area of the circle with radius r\n",
    "area = 0.0 #insert the formula here\n",
    "#print the area with a descriptive message\n",
    "\n",
    "# Calculate the volume of the sphere with radius r\n",
    "volume = 0.0 #insert the formula here\n",
    "#print the volume with a descriptive message\n"
   ]
  },
  {
   "cell_type": "markdown",
   "metadata": {},
   "source": [
    "## Exercise 4: Theoretical Questions\n",
    "Here are a couple of more conceptual questions. You might find the answer in the lecture slides, or you might have to do some internet research of your own. A good point to start is the [official Python documentation](https://docs.python.org/3/). Python also comes with a [long list of modules/libraries](https://docs.python.org/3/library) for a lot of common tasks."
   ]
  },
  {
   "cell_type": "markdown",
   "metadata": {},
   "source": [
    "<div class=\"alert alert-success\"><b>Question 1:</b>  What is the difference between a keyword and a variable name?</div>"
   ]
  },
  {
   "cell_type": "markdown",
   "metadata": {},
   "source": [
    "__Answer 1:__ "
   ]
  },
  {
   "cell_type": "markdown",
   "metadata": {},
   "source": [
    "<div class=\"alert alert-success\"><b>Question 2:</b> In Python you can compare two objects (numbers, strings, etc.) with the comparison operator <mark>==</mark>. This operator will return <mark>True</mark> if the object on the left side of it (after evaluating any possible operations) is equal to the object on the right side. Run the following code and explain, why the operator returns <mark>False</mark> (in other words: why the sum of <mark>0.1</mark> and <mark>0.2</mark> is not equal <mark>0.3</mark>):</div>"
   ]
  },
  {
   "cell_type": "code",
   "execution_count": 1,
   "metadata": {},
   "outputs": [],
   "source": [
    "(0.1 + 0.2) == 0.3"
   ]
  },
  {
   "cell_type": "markdown",
   "metadata": {},
   "source": [
    "__Answer 2:__ "
   ]
  },
  {
   "cell_type": "markdown",
   "metadata": {},
   "source": [
    "<div class=\"alert alert-success\"><b>Question 3:</b> Assume you are given two variables <mark>a</mark> and <mark>b</mark>, each containing a number, but in <mark>string</mark> format as shown below.\n",
    "How do you obtain the sum of the numbers given only those variables without removing the quotes, overwriting the variables or writing the result of the summation directly?\n",
    "</div>"
   ]
  },
  {
   "cell_type": "code",
   "execution_count": null,
   "metadata": {},
   "outputs": [],
   "source": [
    "a = \"1000\"\n",
    "b = \"500\"\n",
    "\n",
    "# Write your code here:\n"
   ]
  },
  {
   "cell_type": "markdown",
   "metadata": {},
   "source": [
    "<div class=\"alert alert-success\"><b>Question 4:</b> Can every integer be converted to a float? Explain why and give an example if not.\n",
    "You may want to check the lecture notebook on how to convert explicitly between types.\n",
    "</div>"
   ]
  },
  {
   "cell_type": "markdown",
   "metadata": {},
   "source": [
    "__Answer 4:__ "
   ]
  }
 ],
 "metadata": {
  "kernelspec": {
   "display_name": "Python 3 (ipykernel)",
   "language": "python",
   "name": "python3"
  },
  "language_info": {
   "codemirror_mode": {
    "name": "ipython",
    "version": 3
   },
   "file_extension": ".py",
   "mimetype": "text/x-python",
   "name": "python",
   "nbconvert_exporter": "python",
   "pygments_lexer": "ipython3",
   "version": "3.10.9"
  }
 },
 "nbformat": 4,
 "nbformat_minor": 4
}
